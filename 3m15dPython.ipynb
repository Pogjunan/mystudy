{
 "cells": [
  {
   "cell_type": "markdown",
   "id": "9e6cb6c5-0fa6-4dde-9270-2fd0aa0983e8",
   "metadata": {},
   "source": [
    "# list 기본내용"
   ]
  },
  {
   "cell_type": "code",
   "execution_count": 1,
   "id": "3ab1bd2d-34e3-4dfd-b074-45f7e77b72ed",
   "metadata": {},
   "outputs": [],
   "source": [
    "a=[1,2,3]"
   ]
  },
  {
   "cell_type": "code",
   "execution_count": 2,
   "id": "a9ffe281-e959-4f83-a0d3-1203bb2572a6",
   "metadata": {},
   "outputs": [
    {
     "data": {
      "text/plain": [
       "[1, 2, 3]"
      ]
     },
     "execution_count": 2,
     "metadata": {},
     "output_type": "execute_result"
    }
   ],
   "source": [
    "a"
   ]
  },
  {
   "cell_type": "code",
   "execution_count": 4,
   "id": "620433b7-0620-4655-b019-e3a874593b69",
   "metadata": {},
   "outputs": [
    {
     "data": {
      "text/plain": [
       "list"
      ]
     },
     "execution_count": 4,
     "metadata": {},
     "output_type": "execute_result"
    }
   ],
   "source": [
    "type(a)\n"
   ]
  },
  {
   "cell_type": "code",
   "execution_count": 5,
   "id": "e0e09182-0576-4b5f-9044-db54b1a5dc27",
   "metadata": {},
   "outputs": [
    {
     "data": {
      "text/plain": [
       "\u001b[1;31mType:\u001b[0m        list\n",
       "\u001b[1;31mString form:\u001b[0m [1, 2, 3]\n",
       "\u001b[1;31mLength:\u001b[0m      3\n",
       "\u001b[1;31mDocstring:\u001b[0m  \n",
       "Built-in mutable sequence.\n",
       "\n",
       "If no argument is given, the constructor creates a new empty list.\n",
       "The argument must be an iterable if specified.\n"
      ]
     },
     "metadata": {},
     "output_type": "display_data"
    }
   ],
   "source": [
    "a?"
   ]
  },
  {
   "cell_type": "code",
   "execution_count": 7,
   "id": "d1b5a95a-fa11-4a24-bb6a-ad8b7e3aa6bd",
   "metadata": {},
   "outputs": [
    {
     "data": {
      "text/plain": [
       "\u001b[1;31mType:\u001b[0m        list\n",
       "\u001b[1;31mString form:\u001b[0m []\n",
       "\u001b[1;31mLength:\u001b[0m      0\n",
       "\u001b[1;31mDocstring:\u001b[0m  \n",
       "Built-in mutable sequence.\n",
       "\n",
       "If no argument is given, the constructor creates a new empty list.\n",
       "The argument must be an iterable if specified.\n"
      ]
     },
     "metadata": {},
     "output_type": "display_data"
    }
   ],
   "source": [
    "a = []\n",
    "a?\n",
    "# 0리스트"
   ]
  },
  {
   "cell_type": "code",
   "execution_count": 9,
   "id": "bcf053b4-c930-4f29-b352-00d729c6d8c0",
   "metadata": {},
   "outputs": [],
   "source": [
    "a = list()\n",
    "# a= [] 랑 같다."
   ]
  },
  {
   "cell_type": "markdown",
   "id": "469d917e-0248-48b8-9c97-6c4356848f9d",
   "metadata": {},
   "source": [
    "# 스트링은 약간 연산이 달랐다.\n",
    "\n",
    "[1,2]+[3,4] 를 python 의 경우에는 [1,2,3,4]\n",
    "c(1,2) + c(3,4) 를 R의 경우에는 [4,6] 이다.\n",
    "\n",
    "## 따라서 python 은 데이터과학을 위한 언어가 아니였다. 현재는 데이터과학으로 \n",
    "## 진화하였지만 이전에는 계산에 대한 기능보다는 합집합의 의미로 들어갔다.\n",
    "\n"
   ]
  },
  {
   "cell_type": "code",
   "execution_count": 12,
   "id": "bfe4311e-9fed-4c48-8f61-88977059fdf5",
   "metadata": {},
   "outputs": [
    {
     "data": {
      "text/plain": [
       "1.4142135623730951"
      ]
     },
     "execution_count": 12,
     "metadata": {},
     "output_type": "execute_result"
    }
   ],
   "source": [
    "import math\n",
    "\n",
    "math.sqrt(2)\n",
    "\n",
    "#sqrt(2) -> 오류가 난다."
   ]
  },
  {
   "cell_type": "code",
   "execution_count": 14,
   "id": "2546b3dd-7335-48ed-a2cf-08ccd803417f",
   "metadata": {},
   "outputs": [
    {
     "ename": "TypeError",
     "evalue": "can only concatenate list (not \"int\") to list",
     "output_type": "error",
     "traceback": [
      "\u001b[1;31m---------------------------------------------------------------------------\u001b[0m",
      "\u001b[1;31mTypeError\u001b[0m                                 Traceback (most recent call last)",
      "\u001b[1;32m~\\AppData\\Local\\Temp\\ipykernel_6016\\1893168196.py\u001b[0m in \u001b[0;36m<module>\u001b[1;34m\u001b[0m\n\u001b[1;32m----> 1\u001b[1;33m \u001b[1;33m[\u001b[0m\u001b[1;36m1\u001b[0m\u001b[1;33m,\u001b[0m\u001b[1;36m2\u001b[0m\u001b[1;33m,\u001b[0m\u001b[1;36m3\u001b[0m\u001b[1;33m,\u001b[0m\u001b[1;36m4\u001b[0m\u001b[1;33m,\u001b[0m\u001b[1;36m5\u001b[0m\u001b[1;33m]\u001b[0m\u001b[1;33m+\u001b[0m\u001b[1;36m1\u001b[0m\u001b[1;33m\u001b[0m\u001b[1;33m\u001b[0m\u001b[0m\n\u001b[0m\u001b[0;32m      2\u001b[0m \u001b[1;33m\u001b[0m\u001b[0m\n\u001b[0;32m      3\u001b[0m \u001b[1;31m# int 와 list 를 같이 결합할 수 없음.\u001b[0m\u001b[1;33m\u001b[0m\u001b[1;33m\u001b[0m\u001b[0m\n",
      "\u001b[1;31mTypeError\u001b[0m: can only concatenate list (not \"int\") to list"
     ]
    }
   ],
   "source": [
    "[1,2,3,4,5]+1\n",
    "\n",
    "# int 와 list 를 같이 더하기연산을 결합할 수 없음."
   ]
  },
  {
   "cell_type": "code",
   "execution_count": 16,
   "id": "d451112e-e53d-4aca-b16c-0eed85ce65df",
   "metadata": {},
   "outputs": [
    {
     "ename": "TypeError",
     "evalue": "unsupported operand type(s) for -: 'list' and 'list'",
     "output_type": "error",
     "traceback": [
      "\u001b[1;31m---------------------------------------------------------------------------\u001b[0m",
      "\u001b[1;31mTypeError\u001b[0m                                 Traceback (most recent call last)",
      "\u001b[1;32m~\\AppData\\Local\\Temp\\ipykernel_6016\\2642904555.py\u001b[0m in \u001b[0;36m<module>\u001b[1;34m\u001b[0m\n\u001b[1;32m----> 1\u001b[1;33m \u001b[1;33m[\u001b[0m\u001b[1;36m1\u001b[0m\u001b[1;33m,\u001b[0m\u001b[1;36m2\u001b[0m\u001b[1;33m]\u001b[0m\u001b[1;33m+\u001b[0m\u001b[1;33m[\u001b[0m\u001b[1;36m1\u001b[0m\u001b[1;33m,\u001b[0m\u001b[1;36m2\u001b[0m\u001b[1;33m]\u001b[0m\u001b[1;33m-\u001b[0m\u001b[1;33m[\u001b[0m\u001b[1;36m1\u001b[0m\u001b[1;33m,\u001b[0m\u001b[1;36m2\u001b[0m\u001b[1;33m]\u001b[0m\u001b[1;33m\u001b[0m\u001b[1;33m\u001b[0m\u001b[0m\n\u001b[0m\u001b[0;32m      2\u001b[0m \u001b[1;33m\u001b[0m\u001b[0m\n\u001b[0;32m      3\u001b[0m \u001b[1;31m#string 과 똑같이 뺄셈을 취급하지않는다.\u001b[0m\u001b[1;33m\u001b[0m\u001b[1;33m\u001b[0m\u001b[0m\n",
      "\u001b[1;31mTypeError\u001b[0m: unsupported operand type(s) for -: 'list' and 'list'"
     ]
    }
   ],
   "source": [
    "[1,2]+[1,2]-[1,2]\n",
    "\n",
    "#string 과 똑같이 뺄셈을 취급하지않는다."
   ]
  },
  {
   "cell_type": "code",
   "execution_count": 17,
   "id": "72bf5d89-31ff-4dad-b916-e0098816830e",
   "metadata": {},
   "outputs": [
    {
     "ename": "TypeError",
     "evalue": "unsupported operand type(s) for /: 'list' and 'int'",
     "output_type": "error",
     "traceback": [
      "\u001b[1;31m---------------------------------------------------------------------------\u001b[0m",
      "\u001b[1;31mTypeError\u001b[0m                                 Traceback (most recent call last)",
      "\u001b[1;32m~\\AppData\\Local\\Temp\\ipykernel_6016\\4153987935.py\u001b[0m in \u001b[0;36m<module>\u001b[1;34m\u001b[0m\n\u001b[1;32m----> 1\u001b[1;33m \u001b[1;33m[\u001b[0m\u001b[1;36m1\u001b[0m\u001b[1;33m,\u001b[0m\u001b[1;36m2\u001b[0m\u001b[1;33m,\u001b[0m\u001b[1;36m1\u001b[0m\u001b[1;33m,\u001b[0m\u001b[1;36m2\u001b[0m\u001b[1;33m,\u001b[0m\u001b[1;36m1\u001b[0m\u001b[1;33m,\u001b[0m\u001b[1;36m2\u001b[0m\u001b[1;33m]\u001b[0m \u001b[1;33m/\u001b[0m \u001b[1;36m3\u001b[0m\u001b[1;33m\u001b[0m\u001b[1;33m\u001b[0m\u001b[0m\n\u001b[0m\u001b[0;32m      2\u001b[0m \u001b[1;31m#이것도 똑같이 안됌.\u001b[0m\u001b[1;33m\u001b[0m\u001b[1;33m\u001b[0m\u001b[0m\n",
      "\u001b[1;31mTypeError\u001b[0m: unsupported operand type(s) for /: 'list' and 'int'"
     ]
    }
   ],
   "source": [
    "[1,2,1,2,1,2] / 3\n",
    "#이것도 똑같이 안됌."
   ]
  },
  {
   "cell_type": "code",
   "execution_count": 19,
   "id": "b19c1e00-f1d7-4760-8cc6-ee7f9dbcdcc8",
   "metadata": {},
   "outputs": [],
   "source": [
    "a=[1,2]\n",
    "b=[3,4]"
   ]
  },
  {
   "cell_type": "code",
   "execution_count": 24,
   "id": "a4ad1051-f755-4601-a406-0ffc8aba3657",
   "metadata": {},
   "outputs": [
    {
     "name": "stdout",
     "output_type": "stream",
     "text": [
      "4 6\n"
     ]
    }
   ],
   "source": [
    "c = print(a[0]+b[0],a[1]+b[1])\n",
    "#numpy 를 쓰면 쉽게 가능\n",
    "    "
   ]
  },
  {
   "cell_type": "code",
   "execution_count": 25,
   "id": "be6c41cb-c907-4209-9835-4c1c3a5b8020",
   "metadata": {},
   "outputs": [],
   "source": []
  },
  {
   "cell_type": "code",
   "execution_count": 27,
   "id": "d7e1592f-56da-4046-b722-5c9cb466dac4",
   "metadata": {},
   "outputs": [
    {
     "name": "stdout",
     "output_type": "stream",
     "text": [
      "Requirement already satisfied: numpy in c:\\users\\pogjunan\\anaconda3\\lib\\site-packages (1.21.5)\n"
     ]
    }
   ],
   "source": [
    "!pip install numpy\n",
    "#!pip install 과 !conda install -c conda-forge numpy -y \n",
    "#conda 는 조금 더 안정화되어서 keras , tensorflow 같이 오류가 생길 수 있는 문법들은 conda로 다운로드하기."
   ]
  },
  {
   "cell_type": "code",
   "execution_count": 31,
   "id": "56ef1cd5-91f2-4e50-8e60-2d275399ce4d",
   "metadata": {},
   "outputs": [],
   "source": [
    "import numpy as np\n",
    "\n",
    "aa= np.array(a)\n",
    "bb =np.array(b)\n",
    "\n"
   ]
  },
  {
   "cell_type": "code",
   "execution_count": 33,
   "id": "03249e93-0e62-4285-9c95-57cbf45fe75a",
   "metadata": {},
   "outputs": [
    {
     "data": {
      "text/plain": [
       "array([4, 6])"
      ]
     },
     "execution_count": 33,
     "metadata": {},
     "output_type": "execute_result"
    }
   ],
   "source": [
    "aa+bb\n",
    "\n",
    "#드디어 4 6 이 만들어졌다.."
   ]
  },
  {
   "cell_type": "markdown",
   "id": "c188d16e-75e6-4824-b6ee-0d5bfd8b48d8",
   "metadata": {},
   "source": [
    "#인덱싱"
   ]
  },
  {
   "cell_type": "markdown",
   "id": "6d875132-4dff-46c3-a003-9af261e7a12c",
   "metadata": {},
   "source": []
  },
  {
   "cell_type": "code",
   "execution_count": 35,
   "id": "73a2ba38-0c1f-4edb-bd9a-13ddf465decf",
   "metadata": {},
   "outputs": [
    {
     "data": {
      "text/plain": [
       "[44, 55]"
      ]
     },
     "execution_count": 35,
     "metadata": {},
     "output_type": "execute_result"
    }
   ],
   "source": [
    "a=[11,22,33,44,55]\n",
    "\n",
    "a[3:5]\n",
    "a[-2:]"
   ]
  },
  {
   "cell_type": "markdown",
   "id": "22011a80-8328-41d8-99e1-8ba989f67b7c",
   "metadata": {},
   "source": [
    "## list 고급내용 1\n",
    "\n",
    "### 콘테이너형 객체\n",
    " - 리스트의 원소는 int,float 따위만 가능한 것이 아니다.(리스트는 컨테이너형 객체이다.)\n",
    " -"
   ]
  },
  {
   "cell_type": "code",
   "execution_count": 39,
   "id": "fa364614-9900-4ae5-ba16-37537dce0fe9",
   "metadata": {},
   "outputs": [],
   "source": [
    "lst =[1,3.14,True,'a',[1,2],\n",
    "      (1,2),{'name':'iu','age':27},{1,2,3}]"
   ]
  },
  {
   "cell_type": "code",
   "execution_count": 42,
   "id": "8d210537-8530-49a2-9397-f2b7fb1d979c",
   "metadata": {},
   "outputs": [
    {
     "data": {
      "text/plain": [
       "[1, 3.14, True, 'a', [1, 2], (1, 2), {'name': 'iu', 'age': 27}, {1, 2, 3}]"
      ]
     },
     "execution_count": 42,
     "metadata": {},
     "output_type": "execute_result"
    }
   ],
   "source": [
    "lst\n",
    "#리스트는 모든 타입들을 다 가질 수 있다. (1,2) = 튜플 "
   ]
  },
  {
   "cell_type": "markdown",
   "id": "2da36dfa-1119-458c-8480-1b3c1bf2829a",
   "metadata": {},
   "source": [
    "# 가변객체\n",
    "- 리스트는 원소를 수정할 수 있다.\n",
    "\n"
   ]
  },
  {
   "cell_type": "code",
   "execution_count": 43,
   "id": "19815638-df26-431e-8781-eef18054374e",
   "metadata": {},
   "outputs": [
    {
     "data": {
      "text/plain": [
       "11"
      ]
     },
     "execution_count": 43,
     "metadata": {},
     "output_type": "execute_result"
    }
   ],
   "source": [
    "a=[11,22,33]\n",
    "\n",
    "a[0]"
   ]
  },
  {
   "cell_type": "code",
   "execution_count": 44,
   "id": "92b69ef3-9cf0-4536-82fd-ba5e5eb33ba0",
   "metadata": {},
   "outputs": [],
   "source": [
    "a[0]=111"
   ]
  },
  {
   "cell_type": "code",
   "execution_count": 45,
   "id": "a192c4fc-83c0-4901-93cf-ec497573f82b",
   "metadata": {},
   "outputs": [
    {
     "data": {
      "text/plain": [
       "[111, 22, 33]"
      ]
     },
     "execution_count": 45,
     "metadata": {},
     "output_type": "execute_result"
    }
   ],
   "source": [
    "a"
   ]
  },
  {
   "cell_type": "markdown",
   "id": "7b672f6f-e9ee-49fa-8306-b5a9d71d6099",
   "metadata": {},
   "source": [
    "## 가능한 경우\n"
   ]
  },
  {
   "cell_type": "code",
   "execution_count": 46,
   "id": "3b6aeb60-7e54-4b24-83a6-4758fed94417",
   "metadata": {},
   "outputs": [],
   "source": [
    "a = ['g','u','e','b','i','n']\n"
   ]
  },
  {
   "cell_type": "code",
   "execution_count": 49,
   "id": "1afa9221-0b30-4bab-9379-5bbecaa40796",
   "metadata": {},
   "outputs": [],
   "source": [
    "a[0]='G'"
   ]
  },
  {
   "cell_type": "code",
   "execution_count": 50,
   "id": "1489a00d-f3ce-4c8c-a454-d6424505da19",
   "metadata": {},
   "outputs": [
    {
     "data": {
      "text/plain": [
       "['G', 'u', 'e', 'b', 'i', 'n']"
      ]
     },
     "execution_count": 50,
     "metadata": {},
     "output_type": "execute_result"
    }
   ],
   "source": [
    "a"
   ]
  },
  {
   "cell_type": "code",
   "execution_count": 51,
   "id": "c75e98f2-ce7b-4e96-8779-6789fc2ac195",
   "metadata": {},
   "outputs": [],
   "source": [
    "#불가능한 경우\n",
    "\n"
   ]
  },
  {
   "cell_type": "code",
   "execution_count": 55,
   "id": "950f3533-e15a-400b-89d6-0fefe3177739",
   "metadata": {},
   "outputs": [],
   "source": [
    "a = ['guebin']\n",
    "\n"
   ]
  },
  {
   "cell_type": "code",
   "execution_count": 56,
   "id": "97290603-37d8-4867-9e5d-6fc5ae23ce11",
   "metadata": {},
   "outputs": [],
   "source": [
    "a[0]='G'"
   ]
  },
  {
   "cell_type": "code",
   "execution_count": 57,
   "id": "e95b3898-73f7-4238-9a4b-f70f830683f7",
   "metadata": {},
   "outputs": [
    {
     "data": {
      "text/plain": [
       "['G']"
      ]
     },
     "execution_count": 57,
     "metadata": {},
     "output_type": "execute_result"
    }
   ],
   "source": [
    "a"
   ]
  },
  {
   "cell_type": "markdown",
   "id": "0240dc79-f239-4c39-b8df-e3717d6146c2",
   "metadata": {},
   "source": [
    "# 리스트 원소 삭제"
   ]
  },
  {
   "cell_type": "code",
   "execution_count": 58,
   "id": "64109c96-80b4-4188-97e8-df0da75ac71b",
   "metadata": {},
   "outputs": [
    {
     "data": {
      "text/plain": [
       "['g', 'u', 'e', 'b', 'i', 'n']"
      ]
     },
     "execution_count": 58,
     "metadata": {},
     "output_type": "execute_result"
    }
   ],
   "source": [
    "a = ['g','u','e','b','i','n']\n",
    "a"
   ]
  },
  {
   "cell_type": "code",
   "execution_count": 59,
   "id": "8fb4ea6e-9212-47b9-8ea5-2d9ba49199e5",
   "metadata": {},
   "outputs": [],
   "source": [
    "#사실 더 쉽게 선언 가능\n"
   ]
  },
  {
   "cell_type": "code",
   "execution_count": 63,
   "id": "3e4999db-f18b-4286-8ccd-7f30691d8bd5",
   "metadata": {},
   "outputs": [],
   "source": [
    "a = list('guebin')"
   ]
  },
  {
   "cell_type": "code",
   "execution_count": 64,
   "id": "f2dba20e-a6de-4a07-a962-4ccb8758f24a",
   "metadata": {},
   "outputs": [
    {
     "data": {
      "text/plain": [
       "'g'"
      ]
     },
     "execution_count": 64,
     "metadata": {},
     "output_type": "execute_result"
    }
   ],
   "source": [
    "a.pop(0)"
   ]
  },
  {
   "cell_type": "code",
   "execution_count": 66,
   "id": "6b6e67f5-a663-4c67-bddc-a6e24ae85095",
   "metadata": {},
   "outputs": [
    {
     "data": {
      "text/plain": [
       "['u', 'e', 'b', 'i', 'n']"
      ]
     },
     "execution_count": 66,
     "metadata": {},
     "output_type": "execute_result"
    }
   ],
   "source": [
    "a\n",
    "# ?? pop 은 출력과 제거를 같이해준다."
   ]
  },
  {
   "cell_type": "code",
   "execution_count": null,
   "id": "75bedeb4-bba0-467d-b03c-694b7869534d",
   "metadata": {},
   "outputs": [],
   "source": []
  }
 ],
 "metadata": {
  "kernelspec": {
   "display_name": "Python 3 (ipykernel)",
   "language": "python",
   "name": "python3"
  },
  "language_info": {
   "codemirror_mode": {
    "name": "ipython",
    "version": 3
   },
   "file_extension": ".py",
   "mimetype": "text/x-python",
   "name": "python",
   "nbconvert_exporter": "python",
   "pygments_lexer": "ipython3",
   "version": "3.9.13"
  }
 },
 "nbformat": 4,
 "nbformat_minor": 5
}
